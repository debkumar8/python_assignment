{
 "cells": [
  {
   "cell_type": "markdown",
   "id": "c43b72e4-7784-4a32-8c47-cd9aaaf09404",
   "metadata": {},
   "source": [
    "## Assignment_19th August"
   ]
  },
  {
   "cell_type": "markdown",
   "id": "3ef678be-5cfb-4fb9-bf38-ed5234f04c15",
   "metadata": {},
   "source": [
    "### TOPIC: Python Basics Variable"
   ]
  },
  {
   "cell_type": "code",
   "execution_count": 6,
   "id": "3e433b92-3bc6-4757-bfd6-f390e857d303",
   "metadata": {},
   "outputs": [
    {
     "name": "stdout",
     "output_type": "stream",
     "text": [
      "After swapping:\n",
      "x = 10\n",
      "y = 5\n"
     ]
    }
   ],
   "source": [
    "# 1. Declare two variables, `x` and `y`, and assign them integer values.\n",
    "# Swap the values of these variables without using any temporary variable.\n",
    "x = 5\n",
    "y = 10\n",
    "\n",
    "# Swap values between x and y without any temporary variable\n",
    "x, y = y, x\n",
    "\n",
    "# Now, x will have the original value of y, and y will have the original value of x\n",
    "print(\"After swapping:\")\n",
    "print(\"x =\", x)\n",
    "print(\"y =\", y)\n"
   ]
  },
  {
   "cell_type": "code",
   "execution_count": 9,
   "id": "13e8ec87-f3fe-4300-a0cb-1c14b9bfa8ce",
   "metadata": {},
   "outputs": [
    {
     "name": "stdin",
     "output_type": "stream",
     "text": [
      "Enter the length of the rectangle:  22\n",
      "Enter the width of the rectangle:  44\n"
     ]
    },
    {
     "name": "stdout",
     "output_type": "stream",
     "text": [
      "The area of the rectangle with length 22.0 and width 44.0 is: 968.0\n"
     ]
    }
   ],
   "source": [
    "# 2. Create a program that calculates the area of a rectangle. Take the length and\n",
    "# width as inputs from the user and store them in variables.\n",
    "# Calculate and display the area.\n",
    "# Take input from the user for length and width\n",
    "length = float(input(\"Enter the length of the rectangle: \"))\n",
    "width = float(input(\"Enter the width of the rectangle: \"))\n",
    "\n",
    "# Calculate the area of the rectangle\n",
    "area = length * width\n",
    "\n",
    "# Display the result\n",
    "print(f\"The area of the rectangle with length {length} and width {width} is: {area}\")\n"
   ]
  },
  {
   "cell_type": "code",
   "execution_count": 12,
   "id": "33f955a2-b209-4d36-a162-89b8e8845097",
   "metadata": {},
   "outputs": [
    {
     "name": "stdin",
     "output_type": "stream",
     "text": [
      "Enter the temperature in Celsius:  90\n"
     ]
    },
    {
     "name": "stdout",
     "output_type": "stream",
     "text": [
      "90.0 degrees Celsius is equal to  194.0 degrees Fahrenheit.\n"
     ]
    }
   ],
   "source": [
    "# 3. Write a Python program that converts temperatures from Celsius to\n",
    "# Fahrenheit. Take the temperature in Celsius as input, store it in a variable,\n",
    "# convert it to Fahrenheit, and display the result.\n",
    "# Take input from the user for temperature in Celsius\n",
    "celsius = float(input(\"Enter the temperature in Celsius: \"))\n",
    "\n",
    "# Convert Celsius to Fahrenheit using the formula: F = (C * 9/5) + 32\n",
    "fahrenheit = (celsius * 9/5) + 32\n",
    "\n",
    "# Display the result\n",
    "#print(f\"{celsius} degrees Celsius is equal to {fahrenheit} degrees Fahrenheit.\")\n",
    "print(celsius,'degrees Celsius is equal to ',fahrenheit, 'degrees Fahrenheit.')\n"
   ]
  },
  {
   "cell_type": "markdown",
   "id": "184fdd84-7106-48a1-ad2e-1f50e68d0900",
   "metadata": {},
   "source": [
    "## TOPIC: String Based Questions"
   ]
  },
  {
   "cell_type": "code",
   "execution_count": 13,
   "id": "227469f4-a29c-4257-8c31-1ad9aac04069",
   "metadata": {},
   "outputs": [
    {
     "name": "stdin",
     "output_type": "stream",
     "text": [
      "Enter a string:  Debkumar Singha Roy\n"
     ]
    },
    {
     "name": "stdout",
     "output_type": "stream",
     "text": [
      "The length of the string is: 19\n"
     ]
    }
   ],
   "source": [
    "# Write a Python program that takes a string as input \n",
    "# and prints the length of the string.\n",
    "# Take input from the user for a string\n",
    "user_input = str(input(\"Enter a string: \"))\n",
    "\n",
    "# Calculate the length of the string\n",
    "string_length = len(user_input)\n",
    "\n",
    "# Display the result\n",
    "print(f\"The length of the string is: {string_length}\")\n"
   ]
  },
  {
   "cell_type": "code",
   "execution_count": 14,
   "id": "86c37107-0fee-457c-b788-4dae23582fab",
   "metadata": {},
   "outputs": [
    {
     "name": "stdin",
     "output_type": "stream",
     "text": [
      "Enter a sentence:  Debkumar Singha Roy\n"
     ]
    },
    {
     "name": "stdout",
     "output_type": "stream",
     "text": [
      "The number of vowels in the sentence is: 6\n"
     ]
    }
   ],
   "source": [
    "# 2. Create a program that takes a sentence from the user and counts the number\n",
    "# of vowels (a, e, i, o, u) in the string.\n",
    "\n",
    "\n",
    "# Take input from the user for a sentence\n",
    "user_sentence = input(\"Enter a sentence: \")\n",
    "\n",
    "# Initialize a variable to store the count of vowels\n",
    "vowel_count = 0\n",
    "\n",
    "# Define the set of vowels\n",
    "vowels = set(\"aeiouAEIOU\")\n",
    "\n",
    "# Count the number of vowels in the sentence\n",
    "for char in user_sentence:\n",
    "    if char in vowels:\n",
    "        vowel_count += 1\n",
    "\n",
    "# Display the result\n",
    "print(f\"The number of vowels in the sentence is: {vowel_count}\")\n"
   ]
  },
  {
   "cell_type": "code",
   "execution_count": 15,
   "id": "5739c9eb-e3c4-42ba-9dc9-c72ff7218eaa",
   "metadata": {},
   "outputs": [
    {
     "name": "stdin",
     "output_type": "stream",
     "text": [
      "Enter a string:  Debkumar Singha Roy\n"
     ]
    },
    {
     "name": "stdout",
     "output_type": "stream",
     "text": [
      "The reversed string is: yoR ahgniS ramukbeD\n"
     ]
    }
   ],
   "source": [
    "# 3. Given a string, reverse the order of characters using string slicing and print\n",
    "# the reversed string.\n",
    "# Take input from the user for a string\n",
    "user_string = input(\"Enter a string: \")\n",
    "\n",
    "# Use string slicing to reverse the order of characters\n",
    "reversed_string = user_string[::-1]\n",
    "\n",
    "# Display the reversed string\n",
    "print(f\"The reversed string is: {reversed_string}\")"
   ]
  },
  {
   "cell_type": "code",
   "execution_count": 16,
   "id": "d0a4f901-8408-464d-a116-8e2ee6f1a56e",
   "metadata": {},
   "outputs": [
    {
     "name": "stdin",
     "output_type": "stream",
     "text": [
      "Enter a string:  Pwskills\n"
     ]
    },
    {
     "name": "stdout",
     "output_type": "stream",
     "text": [
      "The entered string is not a palindrome.\n"
     ]
    }
   ],
   "source": [
    "# 4. Write a program that takes a string as input and checks if it is a palindrome\n",
    "# (reads the same forwards and backwards).\n",
    "# Take input from the user for a string\n",
    "user_string = input(\"Enter a string: \")\n",
    "\n",
    "# Remove spaces and convert to lowercase for case-insensitive comparison\n",
    "cleaned_string = user_string.replace(\" \", \"\").lower()\n",
    "\n",
    "# Reverse the string using string slicing\n",
    "reversed_string = cleaned_string[::-1]\n",
    "\n",
    "# Check if the original and reversed strings are the same\n",
    "if cleaned_string == reversed_string:\n",
    "    print(\"The entered string is a palindrome.\")\n",
    "else:\n",
    "    print(\"The entered string is not a palindrome.\")\n"
   ]
  },
  {
   "cell_type": "code",
   "execution_count": 18,
   "id": "5dc2d3ea-ed56-4bf7-958b-e52b078fbed8",
   "metadata": {},
   "outputs": [
    {
     "name": "stdin",
     "output_type": "stream",
     "text": [
      "Enter a string:  Debkumar Singha Roy\n"
     ]
    },
    {
     "name": "stdout",
     "output_type": "stream",
     "text": [
      "The modified string without spaces is: DebkumarSinghaRoy\n"
     ]
    }
   ],
   "source": [
    "# 5. Create a program that takes a string as input and removes all the spaces from it.\n",
    "# Print the modified string without spaces.\n",
    "# Take input from the user for a string\n",
    "user_string = input(\"Enter a string: \")\n",
    "\n",
    "# Remove spaces from the string\n",
    "string_without_spaces = user_string.replace(\" \", \"\")\n",
    "\n",
    "# Display the modified string without spaces\n",
    "print(f\"The modified string without spaces is: {string_without_spaces}\")\n"
   ]
  },
  {
   "cell_type": "code",
   "execution_count": 3,
   "id": "424c37a3-9b0a-4b95-abdf-0aad3f86576e",
   "metadata": {},
   "outputs": [],
   "source": [
    "set1={'Debkumar'}"
   ]
  },
  {
   "cell_type": "code",
   "execution_count": 4,
   "id": "502c5851-f4f4-45be-9b1f-5d2f69ddc1f7",
   "metadata": {},
   "outputs": [
    {
     "data": {
      "text/plain": [
       "{'Debkumar'}"
      ]
     },
     "execution_count": 4,
     "metadata": {},
     "output_type": "execute_result"
    }
   ],
   "source": [
    "set1"
   ]
  },
  {
   "cell_type": "code",
   "execution_count": null,
   "id": "b09677fe-a5dc-40bb-a615-f0c5cad77e8c",
   "metadata": {},
   "outputs": [],
   "source": []
  }
 ],
 "metadata": {
  "kernelspec": {
   "display_name": "Python 3 (ipykernel)",
   "language": "python",
   "name": "python3"
  },
  "language_info": {
   "codemirror_mode": {
    "name": "ipython",
    "version": 3
   },
   "file_extension": ".py",
   "mimetype": "text/x-python",
   "name": "python",
   "nbconvert_exporter": "python",
   "pygments_lexer": "ipython3",
   "version": "3.10.8"
  }
 },
 "nbformat": 4,
 "nbformat_minor": 5
}
